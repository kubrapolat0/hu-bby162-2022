{
  "nbformat": 4,
  "nbformat_minor": 0,
  "metadata": {
    "colab": {
      "name": "MetinKatarıBiçimlendirme.ipynb ",
      "provenance": [],
      "collapsed_sections": [],
      "authorship_tag": "ABX9TyO2scSg/cvamyE2D2N0obf5",
      "include_colab_link": true
    },
    "kernelspec": {
      "name": "python3",
      "display_name": "Python 3"
    },
    "language_info": {
      "name": "python"
    }
  },
  "cells": [
    {
      "cell_type": "markdown",
      "metadata": {
        "id": "view-in-github",
        "colab_type": "text"
      },
      "source": [
        "<a href=\"https://colab.research.google.com/github/kubrapolat0/hu-bby162-2022/blob/main/MetinKatar%C4%B1Bi%C3%A7imlendirme.ipynb\" target=\"_parent\"><img src=\"https://colab.research.google.com/assets/colab-badge.svg\" alt=\"Open In Colab\"/></a>"
      ]
    },
    {
      "cell_type": "code",
      "execution_count": null,
      "metadata": {
        "colab": {
          "base_uri": "https://localhost:8080/"
        },
        "id": "4n2XV1D6xCX6",
        "outputId": "3be6db51-0bfb-4beb-99c6-05e6c1fe7e86"
      },
      "outputs": [
        {
          "output_type": "stream",
          "name": "stdout",
          "text": [
            "Merhaba, benim adım Kübra, soyadım Polat. Ben 20 yaşındayım. Ben Hacettepe Üniversitesinde okuyorum. Pyhton öğreniyoruz.\n"
          ]
        }
      ],
      "source": [
        "ad = \"Kübra\"\n",
        "soyad = \"Polat\"\n",
        "yas = 20\n",
        "okul = \"Hacettepe Üniversitesi\"\n",
        "ders = \"Pyhton\"\n",
        "print(\"Merhaba, benim adım %s, soyadım %s. Ben %d yaşındayım. Ben %snde okuyorum. %s öğreniyoruz.\" % (ad, soyad, yas, okul, ders))"
      ]
    }
  ]
}