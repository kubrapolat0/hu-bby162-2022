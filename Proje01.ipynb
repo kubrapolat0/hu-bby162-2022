{
  "nbformat": 4,
  "nbformat_minor": 0,
  "metadata": {
    "colab": {
      "name": "Proje01.ipynb ",
      "provenance": [],
      "collapsed_sections": [],
      "authorship_tag": "ABX9TyM2tb1snO8PS7C2lpJjeLSZ",
      "include_colab_link": true
    },
    "kernelspec": {
      "name": "python3",
      "display_name": "Python 3"
    },
    "language_info": {
      "name": "python"
    }
  },
  "cells": [
    {
      "cell_type": "markdown",
      "metadata": {
        "id": "view-in-github",
        "colab_type": "text"
      },
      "source": [
        "<a href=\"https://colab.research.google.com/github/kubrapolat0/hu-bby162-2022/blob/main/Proje01.ipynb\" target=\"_parent\"><img src=\"https://colab.research.google.com/assets/colab-badge.svg\" alt=\"Open In Colab\"/></a>"
      ]
    },
    {
      "cell_type": "code",
      "execution_count": null,
      "metadata": {
        "colab": {
          "base_uri": "https://localhost:8080/"
        },
        "id": "dJ1ZrzkDyOuW",
        "outputId": "4854e283-c197-4a07-d0ba-b55072d365f6"
      },
      "outputs": [
        {
          "output_type": "stream",
          "name": "stdout",
          "text": [
            "İndeks numarasınız giriniz: hayır?\n",
            "İndeks dışı giriş!!!\n"
          ]
        }
      ],
      "source": [
        "liste = [\"tavşan\", \"marul\", \"leopar\", \"salam\", \"demir\", \"tahta\"]\n",
        "secim = input(\"İndeks numarasınız giriniz: \")\n",
        "if secim. isdigit():\n",
        "  secim=int(secim)\n",
        "  listeToplam=len(liste)\n",
        "  if secim < listeToplam:\n",
        "    print(liste[secim])\n",
        "else:\n",
        "  print(\"İndeks dışı giriş!!!\")"
      ]
    }
  ]
}