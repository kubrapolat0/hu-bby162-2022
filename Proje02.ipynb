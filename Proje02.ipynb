{
  "nbformat": 4,
  "nbformat_minor": 0,
  "metadata": {
    "colab": {
      "name": "Proje02.ipynb",
      "provenance": [],
      "collapsed_sections": [],
      "authorship_tag": "ABX9TyM7vc047CxljCDXfH/Ni85q",
      "include_colab_link": true
    },
    "kernelspec": {
      "name": "python3",
      "display_name": "Python 3"
    },
    "language_info": {
      "name": "python"
    }
  },
  "cells": [
    {
      "cell_type": "markdown",
      "metadata": {
        "id": "view-in-github",
        "colab_type": "text"
      },
      "source": [
        "<a href=\"https://colab.research.google.com/github/kubrapolat0/hu-bby162-2022/blob/main/Proje02.ipynb\" target=\"_parent\"><img src=\"https://colab.research.google.com/assets/colab-badge.svg\" alt=\"Open In Colab\"/></a>"
      ]
    },
    {
      "cell_type": "code",
      "source": [
        "def oyun():\n",
        " from random import Choice\n",
        "\n",
        "basitKelimeler = [\"ağaç\",\"böcek\",\"deniz\",\"bulut\"]\n",
        "ortaKelimeler = [\"elektrik\",\"panjur\",\"karanlık\",\"cumartesi\"]\n",
        "ileriKelimeler = [\"floresan\",\"biyografi\",\"fotoğraf\",\"resepsiyon\"]\n",
        "toplamKelimeler = [basitKelimeler, ortaKelimeler,ileriKelimeler]\n",
        "print(\"ADAM ASMACA OYUNUNA HOŞGELDİNİZ!!!\")\n",
        "seviye = print(\"Seviyeler: 1-basit 2-orta 3-ileri \")\n",
        "seviyeSec =input(\"Lütfen oynamak istediğiniz seviyenin numarasını yazınız: \")\n",
        "oyunSec = True\n",
        "while oyunSec:\n",
        "  if seviyeSec == \"1\":\n",
        "   print(\"Basit seviye oyunu başlıyor. Başarılar!\")\n",
        "   oyunSec = False\n",
        "  elif seviyeSec == \"2\":\n",
        "    print(\"Orta seviye oyunu başlıyor. Başarılar!\")\n",
        "    oyunSec = False\n",
        "  elif seviyeSec == \"3\":\n",
        "    print(\"İleri seviye oyunu başlıyor. Başarılar!\")\n",
        "    oyunSec = False\n",
        "\n"
      ],
      "metadata": {
        "colab": {
          "base_uri": "https://localhost:8080/"
        },
        "id": "eUp3lJpSJwJo",
        "outputId": "74cd0b79-522c-485e-bf53-1334c76e8037"
      },
      "execution_count": null,
      "outputs": [
        {
          "output_type": "stream",
          "name": "stdout",
          "text": [
            "ADAM ASMACA OYUNUNA HOŞGELDİNİZ!!!\n",
            "Seviyeler: 1-basit 2-orta 3-ileri \n"
          ]
        }
      ]
    }
  ]
}