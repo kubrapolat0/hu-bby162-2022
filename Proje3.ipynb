{
  "nbformat": 4,
  "nbformat_minor": 0,
  "metadata": {
    "colab": {
      "name": "Proje3.ipynb ",
      "provenance": [],
      "collapsed_sections": [],
      "authorship_tag": "ABX9TyOc+C+KAcsfBFCBgxJ00Bkq",
      "include_colab_link": true
    },
    "kernelspec": {
      "name": "python3",
      "display_name": "Python 3"
    },
    "language_info": {
      "name": "python"
    }
  },
  "cells": [
    {
      "cell_type": "markdown",
      "metadata": {
        "id": "view-in-github",
        "colab_type": "text"
      },
      "source": [
        "<a href=\"https://colab.research.google.com/github/kubrapolat0/hu-bby162-2022/blob/main/Proje3.ipynb\" target=\"_parent\"><img src=\"https://colab.research.google.com/assets/colab-badge.svg\" alt=\"Open In Colab\"/></a>"
      ]
    },
    {
      "cell_type": "code",
      "execution_count": null,
      "metadata": {
        "colab": {
          "base_uri": "https://localhost:8080/",
          "height": 130
        },
        "id": "BYtYUziKt-DP",
        "outputId": "5b6b17be-9d32-42f0-b802-e23780036ea4"
      },
      "outputs": [
        {
          "output_type": "error",
          "ename": "IndentationError",
          "evalue": "ignored",
          "traceback": [
            "\u001b[0;36m  File \u001b[0;32m\"<ipython-input-59-976cf794b7bd>\"\u001b[0;36m, line \u001b[0;32m13\u001b[0m\n\u001b[0;31m    else:\u001b[0m\n\u001b[0m    ^\u001b[0m\n\u001b[0;31mIndentationError\u001b[0m\u001b[0;31m:\u001b[0m unexpected indent\n"
          ]
        }
      ],
      "source": [
        "print(\"Teste Hoşgeldin :)\") \n",
        "print(\"Cevabınızı evet ya da hayır olarak giriniz!!!\")\n",
        "sorular = [\"Kedilerin 3 bacağı mı vardır?\" ,\"Su 100 derecede mi kaynar?\" , \"Tavukların 4 bacağı mı vardır?\" , \"Python programlama dili midir\"  , \"Normandiya çıkartması 1944'te mi yaşanmıştır?\"]\n",
        "cevaplar = [\"Hayır\" , \"Evet\"]\n",
        "dogru = 0\n",
        "yanlıs = 0\n",
        "for i in range(5):\n",
        " print(\"1.soru: \" +sorular[0])\n",
        "cevap = input(str(i+1) + \"Cevabınızı giriniz: \")\n",
        "if cevap == cevaplar[0] :\n",
        " dogru +=1\n",
        "print(\"Tebrikler, doğru bildiniz!, doğru sayınız: \" + str(dogru))\n",
        "else:\n",
        "yanlıs +=1\n",
        "print(\"Başaramadın.. yanlış sayınız: \" + str(yanlıs))\n",
        "print(\"2.soru: \" +sorular[1])\n",
        "cevap = input(\"Cevabınızı giriniz: \")\n",
        "if cevap == cevaplar[1] :\n",
        "    print(\"Tebrikler, doğru bildiniz!\")\n",
        "else :\n",
        "  print(\"Başaramadın..\")\n",
        "print(\"3.soru: \"+sorular[2])\n",
        "cevap = input(\"Cevabınızı giriniz: \")\n",
        "if cevap == cevaplar[0] :\n",
        "  print(\"Tebrikler, doğru bildiniz!\")\n",
        "else:\n",
        "  print(\"Başaramadın..\")\n",
        "print(\"4.soru: \"+sorular[3])\n",
        "cevap = input(\"Cevabınızı giriniz: \")\n",
        "if cevap == cevaplar[1] :\n",
        "  print(\"Tebrikler, doğru bildiniz!\")\n",
        "else:\n",
        "  print(\"Başaramadın..\")\n",
        "print(\"5.soru: \"+sorular[4])\n",
        "cevap = input(\"Cevabınızı giriniz: \")\n",
        "if cevap == cevaplar[1] :\n",
        "  print(\"Tebrikler, doğru bildiniz!\")\n",
        "else:\n",
        "  print(\"Başaramadın..\")\n",
        "print(\"Doğru sayınız\" +str(dogru))\n",
        "print(\"Yanlış sayınız\" +str(yanlıs))"
      ]
    }
  ]
}