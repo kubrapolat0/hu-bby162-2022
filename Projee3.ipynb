{
  "nbformat": 4,
  "nbformat_minor": 0,
  "metadata": {
    "colab": {
      "name": "Projee3.ipynb ",
      "provenance": [],
      "collapsed_sections": [],
      "authorship_tag": "ABX9TyMgZuekhvi1wihC7ruG0YRR",
      "include_colab_link": true
    },
    "kernelspec": {
      "name": "python3",
      "display_name": "Python 3"
    },
    "language_info": {
      "name": "python"
    }
  },
  "cells": [
    {
      "cell_type": "markdown",
      "metadata": {
        "id": "view-in-github",
        "colab_type": "text"
      },
      "source": [
        "<a href=\"https://colab.research.google.com/github/kubrapolat0/hu-bby162-2022/blob/main/Projee3.ipynb\" target=\"_parent\"><img src=\"https://colab.research.google.com/assets/colab-badge.svg\" alt=\"Open In Colab\"/></a>"
      ]
    },
    {
      "cell_type": "code",
      "execution_count": null,
      "metadata": {
        "colab": {
          "base_uri": "https://localhost:8080/"
        },
        "id": "BYtYUziKt-DP",
        "outputId": "d362b044-2ded-48eb-e286-b226ae6638f9"
      },
      "outputs": [
        {
          "output_type": "stream",
          "name": "stdout",
          "text": [
            "Teste Hoşgeldin :)\n",
            "Cevabınızı evet ya da hayır olarak giriniz!!!\n",
            "1.soru: Kedilerin 3 bacağı mı vardır?\n"
          ]
        }
      ],
      "source": [
        "print(\"Teste Hoşgeldin :)\") \n",
        "print(\"Cevabınızı evet ya da hayır olarak giriniz!!!\")\n",
        "sorular = [\"Kedilerin 3 bacağı mı vardır?\" ,\"Su 100 derecede mi kaynar?\" , \"Tavukların 4 bacağı mı vardır?\" , \"Python programlama dili midir\"  , \"Normandiya çıkartması 1944'te mi yaşanmıştır?\"]\n",
        "cevaplar = [\"Hayır\" , \"Evet\"]\n",
        "dogru = 0\n",
        "yanlis = 0\n",
        "print(\"1.soru: \" +sorular[0])\n",
        "cevap = input (\"Cevabınızı giriniz: \")\n",
        "if cevap == cevaplar[0] :\n",
        " dogru +=1\n",
        " print(\"Tebrikler, doğru bildiniz! Doğru sayınız: \" + str(dogru))\n",
        "else :\n",
        "  yanlis +=1\n",
        "print(\"Başaramadın..\")\n",
        "print(\" Yanlış sayınız: \" +str(yanlis))\n",
        "print(\"2.soru: \" +sorular[1])\n",
        "cevap = input(\"Cevabınızı giriniz: \")\n",
        "if cevap == cevaplar[1] :\n",
        "  dogru +=1\n",
        "  print(\"Tebrikler, doğru bildiniz! Doğru sayınız: \" + str(dogru))\n",
        "else :\n",
        "  yanlis +=1\n",
        "print(\"Başaramadın..\")\n",
        "print(\" Yanlış sayınız: \" +str(yanlis))\n",
        "print(\"3.soru: \"+sorular[2])\n",
        "cevap = input(\"Cevabınızı giriniz: \")\n",
        "if cevap == cevaplar[0] :\n",
        "  dogru +=1\n",
        "  print(\"Tebrikler, doğru bildiniz! Doğru sayınız: \" + str(dogru))\n",
        "else:\n",
        " yanlis +=1\n",
        "print(\"Başaramadın..\")\n",
        "print(\"Yanlış sayınız: \" +str(yanlis))\n",
        "print(\"4.soru: \"+sorular[3])\n",
        "cevap = input(\"Cevabınızı giriniz: \")\n",
        "if cevap == cevaplar[1] :\n",
        "  dogru +=1\n",
        "  print(\"Tebrikler, doğru bildiniz! Doğru sayınız: \" + str(dogru))\n",
        "else:\n",
        "  yanlis +=1\n",
        "print(\"Başaramadın..\")\n",
        "print(\"Yanlış sayınız: \" +str(yanlis))\n",
        "print(\"5.soru: \"+sorular[4])\n",
        "cevap = input(\"Cevabınızı giriniz: \")\n",
        "if cevap == cevaplar[1] :\n",
        "  dogru +=1\n",
        "  print(\"Tebrikler, doğru bildiniz! Doğru sayınız: \" + str(dogru))\n",
        "else:\n",
        "  yanlis +=1\n",
        "print(\"Başaramadın..\")\n",
        "print(\"Yanlış sayınız: \" +str(yanlis))\n",
        "print(\"Toplam doğru sayınız: \" + str(dogru))\n",
        "print(\"Toplam yanlış sayınız: \" +str(yanlis))"
      ]
    }
  ]
}