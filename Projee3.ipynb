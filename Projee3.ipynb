{
  "nbformat": 4,
  "nbformat_minor": 0,
  "metadata": {
    "colab": {
      "name": "Projee3.ipynb ",
      "provenance": [],
      "collapsed_sections": [],
      "authorship_tag": "ABX9TyMnnHBkGtPAgZ4Y8tkBthYC",
      "include_colab_link": true
    },
    "kernelspec": {
      "name": "python3",
      "display_name": "Python 3"
    },
    "language_info": {
      "name": "python"
    }
  },
  "cells": [
    {
      "cell_type": "markdown",
      "metadata": {
        "id": "view-in-github",
        "colab_type": "text"
      },
      "source": [
        "<a href=\"https://colab.research.google.com/github/kubrapolat0/hu-bby162-2022/blob/main/Projee3.ipynb\" target=\"_parent\"><img src=\"https://colab.research.google.com/assets/colab-badge.svg\" alt=\"Open In Colab\"/></a>"
      ]
    },
    {
      "cell_type": "code",
      "execution_count": null,
      "metadata": {
        "colab": {
          "base_uri": "https://localhost:8080/"
        },
        "id": "WSmujWtjGSJq",
        "outputId": "b2cdfb0e-29e2-4da3-d6b9-d9d4a60fbfcf"
      },
      "outputs": [
        {
          "output_type": "stream",
          "name": "stdout",
          "text": [
            "Teste Hoşgeldin :)\n",
            "Cevabınızı evet ya da hayır olarak giriniz!!!\n",
            "Her bir soru 20 puandır başarılar:) \n",
            "1.soru\n",
            "Kedilerin 3 bacağı mı vardır?\n",
            "Cevabınızı Giriniz:evet\n",
            "Yanlış Cevap!\n",
            "2.soru\n",
            "Su 100 derecede mi kaynar?\n",
            "Cevabınızı Giriniz:hayır\n",
            "Yanlış Cevap!\n",
            "3.soru\n",
            "Tavukların 4 bacağı mı vardır?\n",
            "Cevabınızı Giriniz:evet\n",
            "Yanlış Cevap!\n",
            "4.soru\n",
            "Python programlama dili midir?\n",
            "Cevabınızı Giriniz:evet\n",
            "Tebrikler! Doğru Bildiniz.\n",
            "5.soru\n",
            "Normandiya çıkartması 1944'te mi yaşanmıştır?\n",
            "Cevabınızı Giriniz:evet\n",
            "Tebrikler! Doğru Bildiniz.\n",
            "Toplam doğru sayınız: 2\n",
            "toplam yanlış sayınız: 3\n",
            "Toplam puanınız: 40\n",
            "Maalesef, testten kaldınız!\n",
            "Teste tekrardan başlamak ister misin? evet/hayır evet\n",
            "Teste Hoşgeldin :)\n",
            "Cevabınızı evet ya da hayır olarak giriniz!!!\n",
            "Her bir soru 20 puandır başarılar:) \n",
            "1.soru\n",
            "Kedilerin 3 bacağı mı vardır?\n",
            "Cevabınızı Giriniz:hayır\n",
            "Tebrikler! Doğru Bildiniz.\n",
            "2.soru\n",
            "Su 100 derecede mi kaynar?\n",
            "Cevabınızı Giriniz:evet\n",
            "Tebrikler! Doğru Bildiniz.\n",
            "3.soru\n",
            "Tavukların 4 bacağı mı vardır?\n",
            "Cevabınızı Giriniz:hayır\n",
            "Tebrikler! Doğru Bildiniz.\n",
            "4.soru\n",
            "Python programlama dili midir?\n",
            "Cevabınızı Giriniz:evet\n",
            "Tebrikler! Doğru Bildiniz.\n",
            "5.soru\n",
            "Normandiya çıkartması 1944'te mi yaşanmıştır?\n",
            "Cevabınızı Giriniz:evet\n",
            "Tebrikler! Doğru Bildiniz.\n",
            "Toplam doğru sayınız: 5\n",
            "toplam yanlış sayınız: 0\n",
            "Toplam puanınız: 100\n",
            "Tebrikler, testten geçtiniz!\n"
          ]
        }
      ],
      "source": [
        "def testFon():\n",
        "  print(\"Teste Hoşgeldin :)\") \n",
        "  print(\"Cevabınızı evet ya da hayır olarak giriniz!!!\")\n",
        "  print(\"Her bir soru 20 puandır başarılar:) \")\n",
        "  sorusayısı = [\"1\",\"2\",\"3\",\"4\",\"5\"]\n",
        "  sorular = [\"Kedilerin 3 bacağı mı vardır?\" ,\"Su 100 derecede mi kaynar?\" , \"Tavukların 4 bacağı mı vardır?\" , \"Python programlama dili midir?\"  , \"Normandiya çıkartması 1944'te mi yaşanmıştır?\"]\n",
        "  cevaplar = [\"hayır\",\"evet\",\"hayır\",\"evet\",\"evet\"]\n",
        "  dogru = 0\n",
        "  yanlıs = 0\n",
        "  puan = 0\n",
        "  for i in range(0,len(sorusayısı)):\n",
        "    print(sorusayısı[i] + str(\".soru\"))\n",
        "    print(sorular[i])\n",
        "    cevap = input(\"Cevabınızı Giriniz:\")\n",
        "    if cevap == cevaplar[i]:\n",
        "      print(\"Tebrikler! Doğru Bildiniz.\")\n",
        "      dogru += 1\n",
        "      puan += 20\n",
        "    else:\n",
        "      print(\"Yanlış Cevap!\")\n",
        "      yanlıs +=1\n",
        "  print(\"Toplam doğru sayınız: \" +str(dogru))\n",
        "  print(\"toplam yanlış sayınız: \" +str(yanlıs))\n",
        "  print(\"Toplam puanınız: \" +str(puan))\n",
        "  if puan >= 60 :\n",
        "    print(\"Tebrikler, testten geçtiniz!\")\n",
        "  else:\n",
        "    print(\"Maalesef, testten kaldınız!\")\n",
        "    tekrar = input(\"Teste tekrardan başlamak ister misin? evet/hayır \")\n",
        "    if tekrar == 'evet':\n",
        "      testFon()\n",
        "    else:\n",
        "      print(\"Program Sonlandırıldı.\")\n",
        "testFon()"
      ]
    }
  ]
}