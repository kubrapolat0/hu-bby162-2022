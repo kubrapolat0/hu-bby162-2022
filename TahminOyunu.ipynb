{
  "nbformat": 4,
  "nbformat_minor": 0,
  "metadata": {
    "colab": {
      "name": "TahminOyunu.ipynb  ",
      "provenance": [],
      "collapsed_sections": [],
      "authorship_tag": "ABX9TyPdNTzM2KMQdOtlRINmoYOz",
      "include_colab_link": true
    },
    "kernelspec": {
      "name": "python3",
      "display_name": "Python 3"
    },
    "language_info": {
      "name": "python"
    }
  },
  "cells": [
    {
      "cell_type": "markdown",
      "metadata": {
        "id": "view-in-github",
        "colab_type": "text"
      },
      "source": [
        "<a href=\"https://colab.research.google.com/github/kubrapolat0/hu-bby162-2022/blob/main/TahminOyunu.ipynb\" target=\"_parent\"><img src=\"https://colab.research.google.com/assets/colab-badge.svg\" alt=\"Open In Colab\"/></a>"
      ]
    },
    {
      "cell_type": "code",
      "source": [
        "print(\"Etçil hayvanlardan tahminde bulununuz! \")\n",
        "lıste = [\"aslan\",\"kaplan\",\"kurt\",\"timsah\",\"köpek balığı\",\"tilki\",\"leopar\"]\n",
        "puan = 0\n",
        "for i in range(5):\n",
        "  tahmin = input(str(i+1) + \".Tahmininizi giriniz: \")\n",
        "  if tahmin in lıste:\n",
        "    puan +=1\n",
        "    print(\"Doğru cevap, puanınız: \" + str(puan))\n",
        "  else:\n",
        "    print(\"Yanlış cevap\")\n",
        "print(\"Toplam puanınız \" + str(puan))"
      ],
      "metadata": {
        "colab": {
          "base_uri": "https://localhost:8080/"
        },
        "id": "WG-E5WKen82s",
        "outputId": "3099ae8a-862f-4138-ad65-a6e85fab137f"
      },
      "execution_count": null,
      "outputs": [
        {
          "output_type": "stream",
          "name": "stdout",
          "text": [
            "Etçil hayvanlardan tahminde bulununuz! \n",
            "1.Tahmininizi giriniz: kedi\n",
            "Yanlış cevap\n",
            "2.Tahmininizi giriniz: köpek\n",
            "Yanlış cevap\n",
            "3.Tahmininizi giriniz: şahin\n",
            "Yanlış cevap\n",
            "4.Tahmininizi giriniz: aslan\n",
            "Doğru cevap, puanınız: 1\n",
            "5.Tahmininizi giriniz: kurt\n",
            "Doğru cevap, puanınız: 2\n",
            "Toplam puanınız 2\n"
          ]
        }
      ]
    }
  ]
}