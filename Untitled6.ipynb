{
  "nbformat": 4,
  "nbformat_minor": 0,
  "metadata": {
    "colab": {
      "name": "Untitled6.ipynb",
      "provenance": [],
      "collapsed_sections": [],
      "authorship_tag": "ABX9TyPvpaiuTw4J+CduzIP692ip",
      "include_colab_link": true
    },
    "kernelspec": {
      "name": "python3",
      "display_name": "Python 3"
    },
    "language_info": {
      "name": "python"
    }
  },
  "cells": [
    {
      "cell_type": "markdown",
      "metadata": {
        "id": "view-in-github",
        "colab_type": "text"
      },
      "source": [
        "<a href=\"https://colab.research.google.com/github/kubrapolat0/hu-bby162-2022/blob/main/Untitled6.ipynb\" target=\"_parent\"><img src=\"https://colab.research.google.com/assets/colab-badge.svg\" alt=\"Open In Colab\"/></a>"
      ]
    },
    {
      "cell_type": "code",
      "source": [
        "adlar={\"kübra\": \"k\", \"tuğba\" : \"t\", \"gamze\": \"g\"} \n",
        "print(adlar)\n",
        "arama = input(\"İsmi giriniz: \")\n",
        "arama = arama.capitalize()\n",
        "print(arama)\n",
        "kontrolEt=(\"KÜBRA\" in adlar.keys())\n",
        "print(\"Adlar bölümünde bu isim var mı? =  \" + str(kontrolEt))"
      ],
      "metadata": {
        "colab": {
          "base_uri": "https://localhost:8080/"
        },
        "id": "nKuOqyRARbf2",
        "outputId": "73bd1f3d-5a4a-4ac1-bec0-31c37c01e919"
      },
      "execution_count": 5,
      "outputs": [
        {
          "output_type": "stream",
          "name": "stdout",
          "text": [
            "{'kübra': 'k', 'tuğba': 't', 'gamze': 'g'}\n",
            "İsmi giriniz: KüBRa\n",
            "Kübra\n",
            "Adlar bölümünde bu isim var mı? =  False\n"
          ]
        }
      ]
    }
  ]
}