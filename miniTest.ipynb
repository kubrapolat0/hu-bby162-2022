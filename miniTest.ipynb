{
  "nbformat": 4,
  "nbformat_minor": 0,
  "metadata": {
    "colab": {
      "name": "miniTest.ipynb",
      "provenance": [],
      "authorship_tag": "ABX9TyOAwrNLRIY+Vkvbxa0Sgv3y",
      "include_colab_link": true
    },
    "kernelspec": {
      "name": "python3",
      "display_name": "Python 3"
    },
    "language_info": {
      "name": "python"
    }
  },
  "cells": [
    {
      "cell_type": "markdown",
      "metadata": {
        "id": "view-in-github",
        "colab_type": "text"
      },
      "source": [
        "<a href=\"https://colab.research.google.com/github/kubrapolat0/hu-bby162-2022/blob/main/miniTest.ipynb\" target=\"_parent\"><img src=\"https://colab.research.google.com/assets/colab-badge.svg\" alt=\"Open In Colab\"/></a>"
      ]
    },
    {
      "cell_type": "code",
      "execution_count": 22,
      "metadata": {
        "colab": {
          "base_uri": "https://localhost:8080/"
        },
        "id": "FFwidy0Rspn1",
        "outputId": "3402ff99-aebc-47c7-9966-804e769411c7"
      },
      "outputs": [
        {
          "output_type": "stream",
          "name": "stdout",
          "text": [
            "Mini teste hoşgeldiniz :)\n",
            "cevaplarınızı false ya da true olarak giriniz!\n",
            "1.soru: Su 100 derecede kaynar.\n",
            "Cevabınızı giriniz: false\n",
            "Yanıldınız!\n",
            "2.soru: Kedilerin 4 bacağı vardır.\n",
            "Cevabınızı giriniz: true\n",
            "Doğru bildiniz!\n",
            "3.soru: Su siyah renktir.\n",
            "Cevabınızı giriniz: false\n",
            "Doğru bildiniz!\n"
          ]
        }
      ],
      "source": [
        "print(\"Mini teste hoşgeldiniz :)\")\n",
        "print(\"cevaplarınızı false ya da true olarak giriniz!\")\n",
        "sorular = [\"Su 100 derecede kaynar.\",\"Kedilerin 4 bacağı vardır.\",\"Su siyah renktir.\"]\n",
        "cevaplar = [\"true\",\"true\",\"false\"]\n",
        "print(\"1.soru: \" +sorular[0])\n",
        "cevap = input(\"Cevabınızı giriniz: \")\n",
        "if cevap == cevaplar[0] :\n",
        "  print(\"Doğru bildiniz!\")\n",
        "else:\n",
        "  print(\"Yanıldınız!\") \n",
        "print(\"2.soru: \" +sorular[1])\n",
        "cevap = input(\"Cevabınızı giriniz: \")\n",
        "if cevap == cevaplar[1] :\n",
        "  print(\"Doğru bildiniz!\")\n",
        "else:\n",
        "  print(\"Yanıldınız!\")  \n",
        "print(\"3.soru: \" +sorular[2])\n",
        "cevap = input(\"Cevabınızı giriniz: \")\n",
        "if cevap == cevaplar[2] :\n",
        "  print(\"Doğru bildiniz!\")\n",
        "else:\n",
        "  print(\"Yanıldınız!\")"
      ]
    }
  ]
}