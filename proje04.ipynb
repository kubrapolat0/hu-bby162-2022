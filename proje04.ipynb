{
  "nbformat": 4,
  "nbformat_minor": 0,
  "metadata": {
    "colab": {
      "name": "proje04.ipynb  ",
      "provenance": [],
      "collapsed_sections": [],
      "mount_file_id": "1_0-SBeZOmhwAyjRP9TPFc0MQ7gtkIDWr",
      "authorship_tag": "ABX9TyMcnQssndPBSwEqoU4DT07Q",
      "include_colab_link": true
    },
    "kernelspec": {
      "name": "python3",
      "display_name": "Python 3"
    },
    "language_info": {
      "name": "python"
    }
  },
  "cells": [
    {
      "cell_type": "markdown",
      "metadata": {
        "id": "view-in-github",
        "colab_type": "text"
      },
      "source": [
        "<a href=\"https://colab.research.google.com/github/kubrapolat0/hu-bby162-2022/blob/main/proje04.ipynb\" target=\"_parent\"><img src=\"https://colab.research.google.com/assets/colab-badge.svg\" alt=\"Open In Colab\"/></a>"
      ]
    },
    {
      "cell_type": "code",
      "execution_count": 4,
      "metadata": {
        "colab": {
          "base_uri": "https://localhost:8080/"
        },
        "id": "tgBOgAx5rF1E",
        "outputId": "2225beac-9536-44a7-d193-049a08973701"
      },
      "outputs": [
        {
          "output_type": "stream",
          "name": "stdout",
          "text": [
            "Drive already mounted at /content/drive; to attempt to forcibly remount, call drive.mount(\"/content/drive\", force_remount=True).\n",
            "Kütüphane Kataloğuna Hoşgeldiniz... \n",
            "\n",
            "\n",
            "Lütfen yapmak istediğiniz işlemi seçiniz! \n",
            " 1-)Kayıtları listele \n",
            " 2-)Yeni kayıt ekle \n",
            " 3-)Kayıt ara \n",
            " 4-)Çıkış\n",
            "1\n",
            "İki Şehrin Hikayesi - Charles Dickens - 2020 - Can Yayınları\n",
            "\n",
            "Yaşlı Adam ve Deniz - Ernest Hemingway - 2021 - Bilgi Yayınevi \n",
            "\n",
            "Serenad - Zülfü Livaneli - 2011 - Doğan Kitap Yayınları\n",
            "\n",
            "Clarissa - Stefan Zweig - 2020 - Türkiye İş Bankası Kültür Yayınları\n",
            "\n",
            "Yeraltından Notlar - Fyodor Mihayloviç Dostoyevski - 2021 - Türkiye İş Bankası Kültür YayınlarıBeyaz Gemi , Cengiz Aytmatov , 2020 , Can Yayınları\n",
            "\n",
            "AS , ASD , 2012 , AS\n",
            "\n",
            "\n",
            "Lütfen yapmak istediğiniz işlemi seçiniz! \n",
            " 1-)Kayıtları listele \n",
            " 2-)Yeni kayıt ekle \n",
            " 3-)Kayıt ara \n",
            " 4-)Çıkış\n",
            "3\n",
            "Aramak istediğiniz kitap adını giriniz!: Serenad\n",
            "Aranan kitap katalogta mevcut!\n",
            "\n",
            "Lütfen yapmak istediğiniz işlemi seçiniz! \n",
            " 1-)Kayıtları listele \n",
            " 2-)Yeni kayıt ekle \n",
            " 3-)Kayıt ara \n",
            " 4-)Çıkış\n",
            "4\n",
            "\n",
            "Katalogdan çıkmak istediğine emin misin? (yes/no)\n",
            "yes\n",
            "\n",
            "Çıkış işlemi yapıldı, hoşçakal!\n"
          ]
        }
      ],
      "source": [
        "from google.colab import drive\n",
        "drive.mount('/content/drive')\n",
        "dosya = '/content/drive/MyDrive/Colab Notebooks/veritabani.txt'\n",
        "\n",
        "print(\"Kütüphane Kataloğuna Hoşgeldiniz... \\n\")\n",
        "def menu():\n",
        "  while True:\n",
        "    islem = input(\"\\nLütfen yapmak istediğiniz işlemi seçiniz! \\n 1-)Kayıtları listele \\n 2-)Yeni kayıt ekle \\n 3-)Kayıt ara \\n 4-)Çıkış\\n\")\n",
        "    if islem == \"1\":\n",
        "      bilgi = open(dosya, \"r\")\n",
        "      for line in bilgi.readlines():\n",
        "        print(line)\n",
        "        bilgi.close()\n",
        "    elif islem == \"2\":\n",
        "      kitabınAdı = input(\"Lütfen kitap adını giriniz: \")\n",
        "      yazarınAdı = input(\"Lütfen yazar adını giriniz: \")\n",
        "      basımYılı = input(\"Lütfen kitabın basım yılını giriniz: \")\n",
        "      yayınevi = input(\"Lütfen kitabın yayınevini giriniz: \")\n",
        "      bilgi = open(dosya, \"a\")\n",
        "      bilgi.write(kitabınAdı + \" , \"+ yazarınAdı + \" , \" + basımYılı + \" , \"+yayınevi +\"\\n\")\n",
        "      bilgi.close()\n",
        "    elif islem == \"3\":\n",
        "      kitapAra = input(\"Aramak istediğiniz kitap adını giriniz!: \")\n",
        "      bilgi = open(dosya, \"r\")\n",
        "      arananKitaplar = bilgi.read().find(kitapAra)\n",
        "      if arananKitaplar:\n",
        "        print(\"Aranan kitap katalogta mevcut!\")\n",
        "      else:\n",
        "        print(\"Aranan kitap katalogta bulunmamaktadır!\")\n",
        "    elif islem == \"4\":\n",
        "      print(\"\\nKatalogdan çıkmak istediğine emin misin? (yes/no)\")\n",
        "      cik = input()\n",
        "      if cik == \"yes\":\n",
        "        print(\"\\nÇıkış işlemi yapıldı, hoşçakal!\")\n",
        "        break\n",
        "      else:\n",
        "        (\"\\nYapmak istediğiniz işlemi seçiniz! \\n 1)Kayıtları listele \\n 2)Yeni kayıt ekle \\n 3)Kayıt ara \\n 4)Çıkış\")\n",
        "\n",
        "menu()"
      ]
    }
  ]
}