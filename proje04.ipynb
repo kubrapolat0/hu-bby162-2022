{
  "nbformat": 4,
  "nbformat_minor": 0,
  "metadata": {
    "colab": {
      "name": "proje04.ipynb",
      "provenance": [],
      "collapsed_sections": [],
      "mount_file_id": "1_0-SBeZOmhwAyjRP9TPFc0MQ7gtkIDWr",
      "authorship_tag": "ABX9TyMEP1C+xClN3wS0EfffXS3/",
      "include_colab_link": true
    },
    "kernelspec": {
      "name": "python3",
      "display_name": "Python 3"
    },
    "language_info": {
      "name": "python"
    }
  },
  "cells": [
    {
      "cell_type": "markdown",
      "metadata": {
        "id": "view-in-github",
        "colab_type": "text"
      },
      "source": [
        "<a href=\"https://colab.research.google.com/github/kubrapolat0/hu-bby162-2022/blob/main/proje04.ipynb\" target=\"_parent\"><img src=\"https://colab.research.google.com/assets/colab-badge.svg\" alt=\"Open In Colab\"/></a>"
      ]
    },
    {
      "cell_type": "code",
      "execution_count": 38,
      "metadata": {
        "colab": {
          "base_uri": "https://localhost:8080/"
        },
        "id": "tgBOgAx5rF1E",
        "outputId": "d296f533-9fb0-408b-b23c-d3cd0182115a"
      },
      "outputs": [
        {
          "output_type": "stream",
          "name": "stdout",
          "text": [
            "Drive already mounted at /content/drive; to attempt to forcibly remount, call drive.mount(\"/content/drive\", force_remount=True).\n",
            "Kütüphane Kataloğuna Hoşgeldiniz... \n",
            "\n",
            "\n",
            "Yapmak istediğiniz işlemi seçiniz! \n",
            " 1-)Kayıtları listele \n",
            " 2-)Yeni kayıt ekle \n",
            " 3-)Kayıt ara \n",
            " 4-)Çıkış\n",
            "1\n",
            "İki Şehrin Hikayesi - Charles Dickens - 2020 - Can Yayınları\n",
            "\n",
            "Yaşlı Adam ve Deniz - Ernest Hemingway - 2021 - Bilgi Yayınevi \n",
            "\n",
            "Serenad - Zülfü Livaneli - 2011 - Doğan Kitap Yayınları\n",
            "\n",
            "Clarissa - Stefan Zweig - 2020 - Türkiye İş Bankası Kültür Yayınları\n",
            "\n",
            "Yeraltından Notlar - Fyodor Mihayloviç Dostoyevski - 2021 - Türkiye İş Bankası Kültür Yayınları\n",
            "\n",
            "Yapmak istediğiniz işlemi seçiniz! \n",
            " 1-)Kayıtları listele \n",
            " 2-)Yeni kayıt ekle \n",
            " 3-)Kayıt ara \n",
            " 4-)Çıkış\n",
            "3\n",
            "Aramak istediğiniz kitap adı: Serenad\n",
            "Aranan kitap var\n",
            "\n",
            "Yapmak istediğiniz işlemi seçiniz! \n",
            " 1-)Kayıtları listele \n",
            " 2-)Yeni kayıt ekle \n",
            " 3-)Kayıt ara \n",
            " 4-)Çıkış\n",
            "2\n",
            "Kitap adını giriniz: Beyaz Gemi\n",
            "Yazar adını giriniz: Cengiz Aytmatov\n",
            "Basım yılını giriniz: 2020\n",
            "Yayınevini giriniz: Can Yayınları\n",
            "\n",
            "Yapmak istediğiniz işlemi seçiniz! \n",
            " 1-)Kayıtları listele \n",
            " 2-)Yeni kayıt ekle \n",
            " 3-)Kayıt ara \n",
            " 4-)Çıkış\n",
            "3\n",
            "Aramak istediğiniz kitap adı: Beyaz Gemi\n",
            "Aranan kitap var\n",
            "\n",
            "Yapmak istediğiniz işlemi seçiniz! \n",
            " 1-)Kayıtları listele \n",
            " 2-)Yeni kayıt ekle \n",
            " 3-)Kayıt ara \n",
            " 4-)Çıkış\n",
            "4\n",
            "\n",
            "Katalogdan çıkmak istediğine emin misin? (e/h)\n",
            "e\n",
            "\n",
            "Çıkış yapıldı :(\n"
          ]
        }
      ],
      "source": [
        "from google.colab import drive\n",
        "drive.mount('/content/drive')\n",
        "dosya = '/content/drive/MyDrive/Colab Notebooks/veritabani.txt'\n",
        "\n",
        "print(\"Kütüphane Kataloğuna Hoşgeldiniz... \\n\")\n",
        "def menu():\n",
        "  while True:\n",
        "    islem = input(\"\\nYapmak istediğiniz işlemi seçiniz! \\n 1-)Kayıtları listele \\n 2-)Yeni kayıt ekle \\n 3-)Kayıt ara \\n 4-)Çıkış\\n\")\n",
        "    if islem == \"1\":\n",
        "      veri = open(dosya, \"r\")\n",
        "      for line in veri.readlines():\n",
        "        print(line)\n",
        "        veri.close()\n",
        "    elif islem == \"2\":\n",
        "      kitapAdi = input(\"Kitap adını giriniz: \")\n",
        "      yazarAdi = input(\"Yazar adını giriniz: \")\n",
        "      basimYili = input(\"Basım yılını giriniz: \")\n",
        "      yayinevi = input(\"Yayınevini giriniz: \")\n",
        "      veri = open(dosya, \"a\")\n",
        "      veri.write(kitapAdi + \" , \"+ yazarAdi + \" , \" + basimYili + \" , \"+yayinevi +\"\\n\")\n",
        "      veri.close()\n",
        "    elif islem == \"3\":\n",
        "      ara = input(\"Aramak istediğiniz kitap adı: \")\n",
        "      veri = open(dosya, \"r\")\n",
        "      aranan = veri.read().find(ara)\n",
        "      if aranan:\n",
        "        print(\"Aranan kitap var\")\n",
        "      else:\n",
        "        print(\"Aranan kitap yok\")\n",
        "    elif islem == \"4\":\n",
        "      print(\"\\nKatalogdan çıkmak istediğine emin misin? (e/h)\")\n",
        "      cik = input()\n",
        "      if cik == \"e\":\n",
        "        print(\"\\nÇıkış yapıldı :(\")\n",
        "        break\n",
        "      else:\n",
        "        (\"\\nYapmak istediğiniz işlem nedir? \\n 1)Kayıtları listele \\n 2)Yeni kayıt ekle \\n 3)Kayıt ara \\n 4)Çıkış\")\n",
        "\n",
        "menu()"
      ]
    }
  ]
}