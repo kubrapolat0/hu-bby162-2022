{
  "nbformat": 4,
  "nbformat_minor": 0,
  "metadata": {
    "colab": {
      "name": "sözlük.ipynb",
      "provenance": [],
      "authorship_tag": "ABX9TyMsggOTWvDWNSchHcqAW/gv",
      "include_colab_link": true
    },
    "kernelspec": {
      "name": "python3",
      "display_name": "Python 3"
    },
    "language_info": {
      "name": "python"
    }
  },
  "cells": [
    {
      "cell_type": "markdown",
      "metadata": {
        "id": "view-in-github",
        "colab_type": "text"
      },
      "source": [
        "<a href=\"https://colab.research.google.com/github/kubrapolat0/hu-bby162-2022/blob/main/s%C3%B6zl%C3%BCk.ipynb\" target=\"_parent\"><img src=\"https://colab.research.google.com/assets/colab-badge.svg\" alt=\"Open In Colab\"/></a>"
      ]
    },
    {
      "cell_type": "code",
      "execution_count": 7,
      "metadata": {
        "colab": {
          "base_uri": "https://localhost:8080/"
        },
        "id": "UfkTq6_KkQNS",
        "outputId": "870467b5-a09a-45c0-b96c-ee577c8c958f"
      },
      "outputs": [
        {
          "output_type": "stream",
          "name": "stdout",
          "text": [
            "{'kübra': 'k', 'tugba': 't', 'gamze': 'g'}\n",
            "{'kübra': 'k', 'tugba': 't', 'gamze': 'g', 'zeynep': 'z'}\n",
            "Aranacak kelimeyi giriniz!: erdal\n",
            "erdal\n"
          ]
        }
      ],
      "source": [
        "sozluk = {\"kübra\": \"k\", \"tugba\": \"t\", \"gamze\":\"g\" }\n",
        "print(sozluk)\n",
        "sozluk[\"zeynep\"]= \"z\"\n",
        "print(sozluk)\n",
        "arama=input(\"Aranacak kelimeyi giriniz!: \")\n",
        "print(arama)\n"
      ]
    }
  ]
}