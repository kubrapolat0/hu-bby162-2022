{
  "nbformat": 4,
  "nbformat_minor": 0,
  "metadata": {
    "colab": {
      "name": "veritabani.txt",
      "provenance": [],
      "authorship_tag": "ABX9TyMGaoraerLQf+vawjkUmkGJ",
      "include_colab_link": true
    },
    "kernelspec": {
      "name": "python3",
      "display_name": "Python 3"
    },
    "language_info": {
      "name": "python"
    }
  },
  "cells": [
    {
      "cell_type": "markdown",
      "metadata": {
        "id": "view-in-github",
        "colab_type": "text"
      },
      "source": [
        "<a href=\"https://colab.research.google.com/github/kubrapolat0/hu-bby162-2022/blob/main/veritabani_txt.ipynb\" target=\"_parent\"><img src=\"https://colab.research.google.com/assets/colab-badge.svg\" alt=\"Open In Colab\"/></a>"
      ]
    },
    {
      "cell_type": "code",
      "execution_count": null,
      "metadata": {
        "id": "_3XWOJV_nDXS"
      },
      "outputs": [],
      "source": [
        "Beyaz Gemi - Cengiz Aytmatov - 2021 - Ötüken Yayınları\n",
        "İki Şehrin Hikayesi - Charles Dickens - 2020 - Can Yayınları\n",
        "Yaşlı Adam ve Deniz - Ernest Hemingway - 2021 - Bilgi Yayınevi\n",
        "Serenad - Zülfü Livaneli - 2011 - Doğan Kitap Yayınları\n",
        "Clarissa - Stefan Zweig - 2020 - Türkiye İş Bankası Kültür Yayınları\n",
        "Yeraltından Notlar - Fyodor Mihayloviç Dostoyevski - 2021 - Türkiye İş Bankası Kültür Yayınları"
      ]
    }
  ]
}